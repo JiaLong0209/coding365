{
  "nbformat": 4,
  "nbformat_minor": 0,
  "metadata": {
    "colab": {
      "provenance": [],
      "gpuType": "T4",
      "include_colab_link": true
    },
    "kernelspec": {
      "name": "python3",
      "display_name": "Python 3"
    },
    "language_info": {
      "name": "python"
    },
    "accelerator": "GPU"
  },
  "cells": [
    {
      "cell_type": "markdown",
      "metadata": {
        "id": "view-in-github",
        "colab_type": "text"
      },
      "source": [
        "<a href=\"https://colab.research.google.com/github/JiaLong0209/coding365/blob/master/AI_python/AI/cifar10/final6_91_vgg16_cifar10.ipynb\" target=\"_parent\"><img src=\"https://colab.research.google.com/assets/colab-badge.svg\" alt=\"Open In Colab\"/></a>"
      ]
    },
    {
      "cell_type": "code",
      "execution_count": 1,
      "metadata": {
        "id": "k7DVqdHt7Gvt",
        "colab": {
          "base_uri": "https://localhost:8080/"
        },
        "outputId": "f77645e4-ffa1-4f64-8b9a-32a705c2c40e"
      },
      "outputs": [
        {
          "output_type": "stream",
          "name": "stdout",
          "text": [
            "Downloading data from https://www.cs.toronto.edu/~kriz/cifar-10-python.tar.gz\n",
            "170498071/170498071 [==============================] - 6s 0us/step\n",
            "(50000, 10) (10000, 10)\n",
            "Downloading data from https://storage.googleapis.com/tensorflow/keras-applications/vgg16/vgg16_weights_tf_dim_ordering_tf_kernels_notop.h5\n",
            "58889256/58889256 [==============================] - 2s 0us/step\n"
          ]
        }
      ],
      "source": [
        "import tensorflow as tf\n",
        "from keras import datasets, layers, models\n",
        "from tensorflow import keras\n",
        "import matplotlib.pyplot as plt\n",
        "import numpy as np\n",
        "\n",
        "(train_images, train_labels), (test_images, test_labels) = datasets.cifar10.load_data()\n",
        "\n",
        "train_images, test_images = train_images / 255.0, test_images / 255.0\n",
        "\n",
        "train_labels = keras.utils.to_categorical(train_labels, 10)\n",
        "test_labels = keras.utils.to_categorical(test_labels, 10)\n",
        "\n",
        "print(train_labels.shape, test_labels.shape)\n",
        "\n",
        "target_size = (32,32,3)\n",
        "\n",
        "base_model = tf.keras.applications.VGG16(\n",
        "    weights='imagenet',  # Load weights pre-trained on ImageNet.\n",
        "    input_shape=target_size,\n",
        "    include_top=False)"
      ]
    },
    {
      "cell_type": "code",
      "source": [
        "base_model.summary()"
      ],
      "metadata": {
        "colab": {
          "base_uri": "https://localhost:8080/"
        },
        "id": "MhCyNvI671bO",
        "outputId": "1e920424-0d0b-4a19-d10c-e389e76cd75f"
      },
      "execution_count": 2,
      "outputs": [
        {
          "output_type": "stream",
          "name": "stdout",
          "text": [
            "Model: \"vgg16\"\n",
            "_________________________________________________________________\n",
            " Layer (type)                Output Shape              Param #   \n",
            "=================================================================\n",
            " input_1 (InputLayer)        [(None, 32, 32, 3)]       0         \n",
            "                                                                 \n",
            " block1_conv1 (Conv2D)       (None, 32, 32, 64)        1792      \n",
            "                                                                 \n",
            " block1_conv2 (Conv2D)       (None, 32, 32, 64)        36928     \n",
            "                                                                 \n",
            " block1_pool (MaxPooling2D)  (None, 16, 16, 64)        0         \n",
            "                                                                 \n",
            " block2_conv1 (Conv2D)       (None, 16, 16, 128)       73856     \n",
            "                                                                 \n",
            " block2_conv2 (Conv2D)       (None, 16, 16, 128)       147584    \n",
            "                                                                 \n",
            " block2_pool (MaxPooling2D)  (None, 8, 8, 128)         0         \n",
            "                                                                 \n",
            " block3_conv1 (Conv2D)       (None, 8, 8, 256)         295168    \n",
            "                                                                 \n",
            " block3_conv2 (Conv2D)       (None, 8, 8, 256)         590080    \n",
            "                                                                 \n",
            " block3_conv3 (Conv2D)       (None, 8, 8, 256)         590080    \n",
            "                                                                 \n",
            " block3_pool (MaxPooling2D)  (None, 4, 4, 256)         0         \n",
            "                                                                 \n",
            " block4_conv1 (Conv2D)       (None, 4, 4, 512)         1180160   \n",
            "                                                                 \n",
            " block4_conv2 (Conv2D)       (None, 4, 4, 512)         2359808   \n",
            "                                                                 \n",
            " block4_conv3 (Conv2D)       (None, 4, 4, 512)         2359808   \n",
            "                                                                 \n",
            " block4_pool (MaxPooling2D)  (None, 2, 2, 512)         0         \n",
            "                                                                 \n",
            " block5_conv1 (Conv2D)       (None, 2, 2, 512)         2359808   \n",
            "                                                                 \n",
            " block5_conv2 (Conv2D)       (None, 2, 2, 512)         2359808   \n",
            "                                                                 \n",
            " block5_conv3 (Conv2D)       (None, 2, 2, 512)         2359808   \n",
            "                                                                 \n",
            " block5_pool (MaxPooling2D)  (None, 1, 1, 512)         0         \n",
            "                                                                 \n",
            "=================================================================\n",
            "Total params: 14,714,688\n",
            "Trainable params: 14,714,688\n",
            "Non-trainable params: 0\n",
            "_________________________________________________________________\n"
          ]
        }
      ]
    },
    {
      "cell_type": "code",
      "source": [
        "base_model.trainable = False"
      ],
      "metadata": {
        "id": "Q2PGaFYG8EOW"
      },
      "execution_count": 3,
      "outputs": []
    },
    {
      "cell_type": "code",
      "source": [
        "\n",
        "inputs = keras.Input(shape=target_size)\n",
        "x = base_model(inputs, training=False)\n",
        "x = layers.Flatten()(x)\n",
        "x = layers.Dense(512, activation='relu')(x)\n",
        "x = layers.Dropout(0.1)(x)\n",
        "x = layers.Dense(512, activation='relu')(x)\n",
        "x = layers.Dropout(0.1)(x)\n",
        "\n",
        "outputs = keras.layers.Dense(10, activation='softmax')(x)\n",
        "model = keras.Model(inputs, outputs)\n",
        "\n",
        "model.summary()\n"
      ],
      "metadata": {
        "id": "vSxZUetv8GVm",
        "colab": {
          "base_uri": "https://localhost:8080/"
        },
        "outputId": "c4e31e85-8dc1-47dd-aa71-07cc398b8dcb"
      },
      "execution_count": 4,
      "outputs": [
        {
          "output_type": "stream",
          "name": "stdout",
          "text": [
            "Model: \"model\"\n",
            "_________________________________________________________________\n",
            " Layer (type)                Output Shape              Param #   \n",
            "=================================================================\n",
            " input_2 (InputLayer)        [(None, 32, 32, 3)]       0         \n",
            "                                                                 \n",
            " vgg16 (Functional)          (None, 1, 1, 512)         14714688  \n",
            "                                                                 \n",
            " flatten (Flatten)           (None, 512)               0         \n",
            "                                                                 \n",
            " dense (Dense)               (None, 512)               262656    \n",
            "                                                                 \n",
            " dropout (Dropout)           (None, 512)               0         \n",
            "                                                                 \n",
            " dense_1 (Dense)             (None, 512)               262656    \n",
            "                                                                 \n",
            " dropout_1 (Dropout)         (None, 512)               0         \n",
            "                                                                 \n",
            " dense_2 (Dense)             (None, 10)                5130      \n",
            "                                                                 \n",
            "=================================================================\n",
            "Total params: 15,245,130\n",
            "Trainable params: 530,442\n",
            "Non-trainable params: 14,714,688\n",
            "_________________________________________________________________\n"
          ]
        }
      ]
    },
    {
      "cell_type": "code",
      "source": [
        "\n",
        "datagen = tf.keras.preprocessing.image.ImageDataGenerator(\n",
        "    rotation_range=25,\n",
        "    zoom_range=0.2,\n",
        "    width_shift_range=0.2,\n",
        "    height_shift_range=0.2,\n",
        "    horizontal_flip=True,\n",
        "    # vertical_flip=True\n",
        ")\n",
        "\n",
        "# train_images, train_labels = train_images[:1] , train_labels[:1]\n",
        "\n",
        "# showImage(train_images, train_labels)\n",
        "\n",
        "new_images = np.repeat(train_images, 2, axis=0)\n",
        "new_labels = np.repeat(train_labels, 2, axis=0)\n",
        "batch_size =  len(new_images)\n",
        "\n",
        "print(train_images.shape)\n",
        "print(new_images.shape)\n",
        "\n",
        "\n",
        "datagen.fit(new_images)\n",
        "\n",
        "# img_iter = datagen.flow(new_images, new_labels, batch_size=batch_size)\n",
        "# x, y = img_iter.next()\n",
        "# print(x.shape, y.shape)\n",
        "\n",
        "callback = keras.callbacks.EarlyStopping(monitor='val_loss', patience = 5)\n",
        "base_model.trainable = True\n"
      ],
      "metadata": {
        "colab": {
          "base_uri": "https://localhost:8080/"
        },
        "id": "7CIRiMYyWAmj",
        "outputId": "84940b1e-61d5-4031-97c0-de3c439d58a8"
      },
      "execution_count": 5,
      "outputs": [
        {
          "output_type": "stream",
          "name": "stdout",
          "text": [
            "(50000, 32, 32, 3)\n",
            "(100000, 32, 32, 3)\n"
          ]
        }
      ]
    },
    {
      "cell_type": "code",
      "source": [
        "batch_size = 256\n",
        "base_model.trainable = False\n",
        "# print(train_images.shape, train_labels.shape)\n",
        "\n",
        "model.compile(\n",
        "            optimizer='rmsprop',\n",
        "            # optimizer=tf.keras.optimizers.Adam(learning_rate=0.001),\n",
        "            # loss=tf.keras.losses.SparseCategoricalCrossentropy(from_logits=True),\n",
        "            loss='categorical_crossentropy',\n",
        "            metrics=['accuracy']\n",
        "            )\n",
        "\n",
        "\n",
        "history = model.fit(\n",
        "                    # train_images, train_labels,\n",
        "                    datagen.flow(new_images, new_labels, batch_size=batch_size),\n",
        "                    # x,y,\n",
        "                    epochs=10,\n",
        "                    validation_data=(test_images, test_labels),\n",
        "                    batch_size=batch_size,\n",
        "                    callbacks=[callback]\n",
        ")"
      ],
      "metadata": {
        "colab": {
          "base_uri": "https://localhost:8080/"
        },
        "id": "golE_PpRod85",
        "outputId": "0cda227d-fc98-4e80-9b33-6189784881b8"
      },
      "execution_count": 7,
      "outputs": [
        {
          "output_type": "stream",
          "name": "stdout",
          "text": [
            "Epoch 1/20\n",
            "391/391 [==============================] - 77s 167ms/step - loss: 1.5390 - accuracy: 0.4542 - val_loss: 1.3057 - val_accuracy: 0.5379\n",
            "Epoch 2/20\n",
            "391/391 [==============================] - 61s 155ms/step - loss: 1.3836 - accuracy: 0.5098 - val_loss: 1.2387 - val_accuracy: 0.5591\n",
            "Epoch 3/20\n",
            "391/391 [==============================] - 61s 155ms/step - loss: 1.3374 - accuracy: 0.5260 - val_loss: 1.2514 - val_accuracy: 0.5569\n",
            "Epoch 4/20\n",
            "391/391 [==============================] - 60s 153ms/step - loss: 1.3133 - accuracy: 0.5347 - val_loss: 1.1792 - val_accuracy: 0.5825\n",
            "Epoch 5/20\n",
            "391/391 [==============================] - 61s 156ms/step - loss: 1.2829 - accuracy: 0.5469 - val_loss: 1.2217 - val_accuracy: 0.5732\n",
            "Epoch 6/20\n",
            "391/391 [==============================] - 62s 158ms/step - loss: 1.2647 - accuracy: 0.5523 - val_loss: 1.1632 - val_accuracy: 0.5953\n",
            "Epoch 7/20\n",
            "391/391 [==============================] - 61s 155ms/step - loss: 1.2463 - accuracy: 0.5585 - val_loss: 1.1520 - val_accuracy: 0.5979\n",
            "Epoch 8/20\n",
            "391/391 [==============================] - 60s 153ms/step - loss: 1.2305 - accuracy: 0.5652 - val_loss: 1.1345 - val_accuracy: 0.6097\n",
            "Epoch 9/20\n",
            "391/391 [==============================] - 60s 154ms/step - loss: 1.2199 - accuracy: 0.5678 - val_loss: 1.1560 - val_accuracy: 0.5968\n",
            "Epoch 10/20\n",
            "391/391 [==============================] - 62s 157ms/step - loss: 1.2109 - accuracy: 0.5711 - val_loss: 1.1380 - val_accuracy: 0.6014\n",
            "Epoch 11/20\n",
            "391/391 [==============================] - 61s 156ms/step - loss: 1.1977 - accuracy: 0.5771 - val_loss: 1.1464 - val_accuracy: 0.5996\n",
            "Epoch 12/20\n",
            "391/391 [==============================] - 60s 154ms/step - loss: 1.1810 - accuracy: 0.5813 - val_loss: 1.1762 - val_accuracy: 0.5912\n",
            "Epoch 13/20\n",
            "391/391 [==============================] - 61s 156ms/step - loss: 1.1784 - accuracy: 0.5827 - val_loss: 1.1077 - val_accuracy: 0.6120\n",
            "Epoch 14/20\n",
            "391/391 [==============================] - 61s 156ms/step - loss: 1.1727 - accuracy: 0.5869 - val_loss: 1.1450 - val_accuracy: 0.6031\n",
            "Epoch 15/20\n",
            "391/391 [==============================] - 60s 154ms/step - loss: 1.1658 - accuracy: 0.5881 - val_loss: 1.1211 - val_accuracy: 0.6101\n",
            "Epoch 16/20\n",
            "391/391 [==============================] - 62s 158ms/step - loss: 1.1540 - accuracy: 0.5907 - val_loss: 1.1071 - val_accuracy: 0.6147\n",
            "Epoch 17/20\n",
            "391/391 [==============================] - 60s 154ms/step - loss: 1.1477 - accuracy: 0.5921 - val_loss: 1.1201 - val_accuracy: 0.6096\n",
            "Epoch 18/20\n",
            "391/391 [==============================] - 60s 152ms/step - loss: 1.1424 - accuracy: 0.5953 - val_loss: 1.0996 - val_accuracy: 0.6135\n",
            "Epoch 19/20\n",
            "391/391 [==============================] - 59s 152ms/step - loss: 1.1369 - accuracy: 0.5976 - val_loss: 1.0955 - val_accuracy: 0.6196\n",
            "Epoch 20/20\n",
            "391/391 [==============================] - 60s 155ms/step - loss: 1.1331 - accuracy: 0.5998 - val_loss: 1.0868 - val_accuracy: 0.6252\n"
          ]
        }
      ]
    },
    {
      "cell_type": "code",
      "source": [
        "base_model.trainable = True\n",
        "batch_size = 128\n",
        "\n",
        "# print(train_images.shape, train_labels.shape)\n",
        "\n",
        "model.compile(\n",
        "            # optimizer='rmsprop',\n",
        "            optimizer=tf.keras.optimizers.Adam(learning_rate=0.00001),\n",
        "            # loss=tf.keras.losses.SparseCategoricalCrossentropy(from_logits=True),\n",
        "            loss='categorical_crossentropy',\n",
        "            metrics=['accuracy']\n",
        "            )\n",
        "\n",
        "\n",
        "history = model.fit(\n",
        "                    # train_images, train_labels,\n",
        "                    datagen.flow(new_images, new_labels, batch_size=batch_size),\n",
        "                    # x,y,\n",
        "                    epochs=40,\n",
        "                    validation_data=(test_images, test_labels),\n",
        "                    batch_size=batch_size,\n",
        "                    callbacks=[callback]\n",
        "                    )"
      ],
      "metadata": {
        "colab": {
          "base_uri": "https://localhost:8080/"
        },
        "id": "G-WXqQnr80zm",
        "outputId": "f58dbc5b-7b7d-4543-cb72-77998c220b90"
      },
      "execution_count": 8,
      "outputs": [
        {
          "output_type": "stream",
          "name": "stdout",
          "text": [
            "Epoch 1/40\n",
            "782/782 [==============================] - 83s 95ms/step - loss: 1.2592 - accuracy: 0.5572 - val_loss: 0.7362 - val_accuracy: 0.7445\n",
            "Epoch 2/40\n",
            "782/782 [==============================] - 75s 96ms/step - loss: 0.7635 - accuracy: 0.7388 - val_loss: 0.6909 - val_accuracy: 0.7655\n",
            "Epoch 3/40\n",
            "782/782 [==============================] - 72s 92ms/step - loss: 0.6319 - accuracy: 0.7838 - val_loss: 0.5048 - val_accuracy: 0.8262\n",
            "Epoch 4/40\n",
            "782/782 [==============================] - 72s 92ms/step - loss: 0.5421 - accuracy: 0.8141 - val_loss: 0.6747 - val_accuracy: 0.7946\n",
            "Epoch 5/40\n",
            "782/782 [==============================] - 72s 92ms/step - loss: 0.4890 - accuracy: 0.8332 - val_loss: 0.4281 - val_accuracy: 0.8536\n",
            "Epoch 6/40\n",
            "782/782 [==============================] - 73s 93ms/step - loss: 0.4473 - accuracy: 0.8486 - val_loss: 0.4152 - val_accuracy: 0.8609\n",
            "Epoch 7/40\n",
            "782/782 [==============================] - 72s 92ms/step - loss: 0.4100 - accuracy: 0.8606 - val_loss: 0.4392 - val_accuracy: 0.8560\n",
            "Epoch 8/40\n",
            "782/782 [==============================] - 73s 94ms/step - loss: 0.3755 - accuracy: 0.8724 - val_loss: 0.3819 - val_accuracy: 0.8756\n",
            "Epoch 9/40\n",
            "782/782 [==============================] - 72s 92ms/step - loss: 0.3483 - accuracy: 0.8821 - val_loss: 0.3810 - val_accuracy: 0.8741\n",
            "Epoch 10/40\n",
            "782/782 [==============================] - 71s 91ms/step - loss: 0.3283 - accuracy: 0.8884 - val_loss: 0.3438 - val_accuracy: 0.8894\n",
            "Epoch 11/40\n",
            "782/782 [==============================] - 71s 91ms/step - loss: 0.3054 - accuracy: 0.8956 - val_loss: 0.3722 - val_accuracy: 0.8887\n",
            "Epoch 12/40\n",
            "782/782 [==============================] - 71s 91ms/step - loss: 0.2876 - accuracy: 0.9015 - val_loss: 0.3320 - val_accuracy: 0.8941\n",
            "Epoch 13/40\n",
            "782/782 [==============================] - 71s 90ms/step - loss: 0.2770 - accuracy: 0.9059 - val_loss: 0.3540 - val_accuracy: 0.8877\n",
            "Epoch 14/40\n",
            "782/782 [==============================] - 72s 92ms/step - loss: 0.2611 - accuracy: 0.9118 - val_loss: 0.3500 - val_accuracy: 0.8940\n",
            "Epoch 15/40\n",
            "782/782 [==============================] - 71s 90ms/step - loss: 0.2469 - accuracy: 0.9155 - val_loss: 0.3911 - val_accuracy: 0.8829\n",
            "Epoch 16/40\n",
            "782/782 [==============================] - 73s 93ms/step - loss: 0.2334 - accuracy: 0.9203 - val_loss: 0.3784 - val_accuracy: 0.8870\n",
            "Epoch 17/40\n",
            "782/782 [==============================] - 74s 95ms/step - loss: 0.2169 - accuracy: 0.9262 - val_loss: 0.3475 - val_accuracy: 0.8946\n"
          ]
        }
      ]
    },
    {
      "cell_type": "code",
      "source": [
        "# model.compile(optimizer=keras.optimizers.RMSprop(learning_rate = .00001),  # Very low learning rate\n",
        "#               loss=keras.losses.BinaryCrossentropy(from_logits=True),\n",
        "#               metrics=[keras.metrics.BinaryAccuracy()])\n",
        "\n",
        "batch_size = 64\n",
        "\n",
        "model.compile(\n",
        "            # optimizer='rmsprop',\n",
        "            tf.keras.optimizers.Adam(learning_rate=0.00002),\n",
        "            # loss=tf.keras.losses.SparseCategoricalCrossentropy(from_logits=True),\n",
        "            loss='categorical_crossentropy',\n",
        "            metrics=['accuracy']\n",
        "            )\n",
        "\n",
        "\n",
        "history3 = model.fit(\n",
        "                    train_images, train_labels,\n",
        "                    epochs=40,\n",
        "                    validation_data=(test_images, test_labels),\n",
        "                    batch_size=batch_size,\n",
        "                    callbacks=[callback]\n",
        "                    )"
      ],
      "metadata": {
        "id": "M0qU_5MO9SUl",
        "colab": {
          "base_uri": "https://localhost:8080/"
        },
        "outputId": "99f35143-7405-4aca-bd52-5da838c42caf"
      },
      "execution_count": 9,
      "outputs": [
        {
          "output_type": "stream",
          "name": "stdout",
          "text": [
            "Epoch 1/40\n",
            "782/782 [==============================] - 36s 37ms/step - loss: 0.0551 - accuracy: 0.9812 - val_loss: 0.3453 - val_accuracy: 0.9134\n",
            "Epoch 2/40\n",
            "782/782 [==============================] - 30s 38ms/step - loss: 0.0141 - accuracy: 0.9961 - val_loss: 0.4587 - val_accuracy: 0.9127\n",
            "Epoch 3/40\n",
            "782/782 [==============================] - 29s 37ms/step - loss: 0.0026 - accuracy: 0.9995 - val_loss: 0.5776 - val_accuracy: 0.9149\n",
            "Epoch 4/40\n",
            "782/782 [==============================] - 30s 38ms/step - loss: 0.0011 - accuracy: 0.9998 - val_loss: 0.6779 - val_accuracy: 0.9121\n",
            "Epoch 5/40\n",
            "782/782 [==============================] - 30s 38ms/step - loss: 0.0020 - accuracy: 0.9995 - val_loss: 0.7736 - val_accuracy: 0.9111\n",
            "Epoch 6/40\n",
            "782/782 [==============================] - 30s 38ms/step - loss: 0.0042 - accuracy: 0.9988 - val_loss: 0.7558 - val_accuracy: 0.9122\n"
          ]
        }
      ]
    },
    {
      "cell_type": "code",
      "source": [
        "\n",
        "hist = [history,history2]\n",
        "acc_list = [acc for i in hist for acc in i.history['accuracy']]\n",
        "val_acc_list = [acc for i in hist for acc in i.history['val_accuracy']]\n",
        "\n",
        "print(acc_list)\n",
        "\n",
        "plt.plot(acc_list, label='accuracy')\n",
        "plt.plot(val_acc_list, label = 'val_accuracy')\n",
        "plt.title('Cifar10')\n",
        "plt.xlabel('Epoch')\n",
        "plt.ylabel('Accuracy')\n",
        "plt.ylim([0.5, 1])\n",
        "plt.legend(loc='lower right')\n",
        "\n",
        "test_loss, test_acc = model.evaluate(test_images,  test_labels, verbose=2)\n",
        "\n",
        "# print(test_loss)\n",
        "print(test_acc)"
      ],
      "metadata": {
        "colab": {
          "base_uri": "https://localhost:8080/",
          "height": 547
        },
        "id": "UQh6zjdvaKf0",
        "outputId": "1c536e74-9b90-4871-90e2-341f8c68b1cc"
      },
      "execution_count": 10,
      "outputs": [
        {
          "output_type": "stream",
          "name": "stdout",
          "text": [
            "[0.5572100281715393, 0.7388100028038025, 0.7838199734687805, 0.8140699863433838, 0.8332200050354004, 0.8485999703407288, 0.8605999946594238, 0.8724499940872192, 0.8821300268173218, 0.8883500099182129, 0.895609974861145, 0.9014999866485596, 0.9058700203895569, 0.9118099808692932, 0.9154800176620483, 0.9202899932861328, 0.9262199997901917, 0.9812399744987488, 0.9960799813270569, 0.999459981918335, 0.9998199939727783, 0.9995200037956238, 0.9988200068473816]\n",
            "313/313 - 2s - loss: 0.7558 - accuracy: 0.9122 - 2s/epoch - 7ms/step\n",
            "0.9121999740600586\n"
          ]
        },
        {
          "output_type": "display_data",
          "data": {
            "text/plain": [
              "<Figure size 640x480 with 1 Axes>"
            ],
            "image/png": "[encoded data removed]"
          },
          "metadata": {}
        }
      ]
    },
    {
      "cell_type": "code",
      "source": [],
      "metadata": {
        "id": "R0eHGGGd5A_N"
      },
      "execution_count": null,
      "outputs": []
    }
  ]
}