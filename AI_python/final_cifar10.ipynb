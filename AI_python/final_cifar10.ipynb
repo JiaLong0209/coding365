{
  "nbformat": 4,
  "nbformat_minor": 0,
  "metadata": {
    "colab": {
      "provenance": [],
      "gpuType": "T4",
      "cell_execution_strategy": "setup",
      "include_colab_link": true
    },
    "kernelspec": {
      "name": "python3",
      "display_name": "Python 3"
    },
    "language_info": {
      "name": "python"
    },
    "accelerator": "GPU"
  },
  "cells": [
    {
      "cell_type": "markdown",
      "metadata": {
        "id": "view-in-github",
        "colab_type": "text"
      },
      "source": [
        "<a href=\"https://colab.research.google.com/github/JiaLong0209/coding365/blob/master/AI_python/final_cifar10.ipynb\" target=\"_parent\"><img src=\"https://colab.research.google.com/assets/colab-badge.svg\" alt=\"Open In Colab\"/></a>"
      ]
    },
    {
      "cell_type": "code",
      "execution_count": null,
      "metadata": {
        "id": "LeDO_oAYNf1D"
      },
      "outputs": [],
      "source": [
        "import tensorflow as tf\n",
        "from keras import datasets, layers, models\n",
        "from tensorflow import keras\n",
        "import matplotlib.pyplot as plt\n",
        "import numpy as np"
      ]
    },
    {
      "cell_type": "code",
      "source": [
        "from google.colab import drive\n",
        "drive.mount('/content/drive')"
      ],
      "metadata": {
        "colab": {
          "base_uri": "https://localhost:8080/"
        },
        "id": "bPYztL67Orrx",
        "outputId": "9be154fa-0120-49a8-cdb9-62b8780e9021"
      },
      "execution_count": null,
      "outputs": [
        {
          "output_type": "stream",
          "name": "stdout",
          "text": [
            "Mounted at /content/drive\n"
          ]
        }
      ]
    },
    {
      "cell_type": "code",
      "source": [
        "(train_images, train_labels), (test_images, test_labels) = datasets.cifar10.load_data()\n",
        "\n",
        "train_images, test_images = train_images / 255.0, test_images / 255.0\n"
      ],
      "metadata": {
        "id": "bspicLQ3NlWV",
        "colab": {
          "base_uri": "https://localhost:8080/"
        },
        "outputId": "425c4df0-baba-439c-aa49-58d6f94ab613"
      },
      "execution_count": null,
      "outputs": [
        {
          "output_type": "stream",
          "name": "stdout",
          "text": [
            "Downloading data from https://www.cs.toronto.edu/~kriz/cifar-10-python.tar.gz\n",
            "170498071/170498071 [==============================] - 4s 0us/step\n"
          ]
        }
      ]
    },
    {
      "cell_type": "code",
      "source": [
        "def showImage(x,y):\n",
        "    plt.figure(figsize=(10,10))\n",
        "    for i in range(25):\n",
        "        plt.subplot(5,5,i+1)\n",
        "        plt.xticks([])\n",
        "        plt.yticks([])\n",
        "        plt.grid(False)\n",
        "        plt.imshow(x[i])\n",
        "        plt.xlabel(class_names[y[i][0]])\n",
        "    plt.show()\n",
        "\n",
        "class_names = ['airplane', 'automobile', 'bird', 'cat', 'deer',\n",
        "               'dog', 'frog', 'horse', 'ship', 'truck']\n",
        "\n",
        "# showImage(train_images, train_labels)"
      ],
      "metadata": {
        "id": "ZQhLDRCENrTm"
      },
      "execution_count": null,
      "outputs": []
    },
    {
      "cell_type": "code",
      "source": [
        "from keras.layers.normalization.batch_normalization_v1 import BatchNormalization\n",
        "model = models.Sequential()\n",
        "kernel_size = [64,128,256,512]\n",
        "\n",
        "model.add(layers.Conv2D(64, (3,3), activation='relu', padding='same', input_shape=(32, 32, 3)))\n",
        "model.add(BatchNormalization())\n",
        "\n",
        "for i,kernel in enumerate(kernel_size):\n",
        "    model.add(layers.Conv2D(kernel, (3, 3), activation='relu',padding='same'))\n",
        "    model.add(layers.Conv2D(kernel, (3, 3), activation='relu',padding='same'))\n",
        "    if(i > len(kernel_size)/2): model.add(layers.Conv2D(kernel, (3, 3), activation='relu', padding='same'))\n",
        "    model.add(layers.BatchNormalization())\n",
        "    model.add(layers.MaxPooling2D((2, 2)))\n",
        "\n",
        "model.add(layers.Flatten())\n",
        "model.add(layers.Dense(512, activation='relu'))\n",
        "model.add(layers.Dropout(0.1))\n",
        "model.add(layers.Dense(512, activation='relu'))\n",
        "model.add(layers.Dropout(0.1))\n",
        "model.add(layers.BatchNormalization())\n",
        "\n",
        "model.add(layers.Dense(10))\n",
        "\n",
        "model.summary()\n"
      ],
      "metadata": {
        "id": "_B_1rLfMYTNy",
        "colab": {
          "base_uri": "https://localhost:8080/"
        },
        "outputId": "012ed9d2-665b-4277-95a4-c41bacced7d3"
      },
      "execution_count": null,
      "outputs": [
        {
          "output_type": "stream",
          "name": "stdout",
          "text": [
            "Model: \"sequential\"\n",
            "_________________________________________________________________\n",
            " Layer (type)                Output Shape              Param #   \n",
            "=================================================================\n",
            " conv2d (Conv2D)             (None, 32, 32, 64)        1792      \n",
            "                                                                 \n",
            " batch_normalization (BatchN  (None, 32, 32, 64)       256       \n",
            " ormalization)                                                   \n",
            "                                                                 \n",
            " conv2d_1 (Conv2D)           (None, 32, 32, 64)        36928     \n",
            "                                                                 \n",
            " conv2d_2 (Conv2D)           (None, 32, 32, 64)        36928     \n",
            "                                                                 \n",
            " batch_normalization_1 (Batc  (None, 32, 32, 64)       256       \n",
            " hNormalization)                                                 \n",
            "                                                                 \n",
            " max_pooling2d (MaxPooling2D  (None, 16, 16, 64)       0         \n",
            " )                                                               \n",
            "                                                                 \n",
            " conv2d_3 (Conv2D)           (None, 16, 16, 128)       73856     \n",
            "                                                                 \n",
            " conv2d_4 (Conv2D)           (None, 16, 16, 128)       147584    \n",
            "                                                                 \n",
            " batch_normalization_2 (Batc  (None, 16, 16, 128)      512       \n",
            " hNormalization)                                                 \n",
            "                                                                 \n",
            " max_pooling2d_1 (MaxPooling  (None, 8, 8, 128)        0         \n",
            " 2D)                                                             \n",
            "                                                                 \n",
            " conv2d_5 (Conv2D)           (None, 8, 8, 256)         295168    \n",
            "                                                                 \n",
            " conv2d_6 (Conv2D)           (None, 8, 8, 256)         590080    \n",
            "                                                                 \n",
            " batch_normalization_3 (Batc  (None, 8, 8, 256)        1024      \n",
            " hNormalization)                                                 \n",
            "                                                                 \n",
            " max_pooling2d_2 (MaxPooling  (None, 4, 4, 256)        0         \n",
            " 2D)                                                             \n",
            "                                                                 \n",
            " conv2d_7 (Conv2D)           (None, 4, 4, 512)         1180160   \n",
            "                                                                 \n",
            " conv2d_8 (Conv2D)           (None, 4, 4, 512)         2359808   \n",
            "                                                                 \n",
            " conv2d_9 (Conv2D)           (None, 4, 4, 512)         2359808   \n",
            "                                                                 \n",
            " batch_normalization_4 (Batc  (None, 4, 4, 512)        2048      \n",
            " hNormalization)                                                 \n",
            "                                                                 \n",
            " max_pooling2d_3 (MaxPooling  (None, 2, 2, 512)        0         \n",
            " 2D)                                                             \n",
            "                                                                 \n",
            " flatten (Flatten)           (None, 2048)              0         \n",
            "                                                                 \n",
            " dense (Dense)               (None, 512)               1049088   \n",
            "                                                                 \n",
            " dropout (Dropout)           (None, 512)               0         \n",
            "                                                                 \n",
            " dense_1 (Dense)             (None, 512)               262656    \n",
            "                                                                 \n",
            " dropout_1 (Dropout)         (None, 512)               0         \n",
            "                                                                 \n",
            " batch_normalization_5 (Batc  (None, 512)              2048      \n",
            " hNormalization)                                                 \n",
            "                                                                 \n",
            " dense_2 (Dense)             (None, 10)                5130      \n",
            "                                                                 \n",
            "=================================================================\n",
            "Total params: 8,405,130\n",
            "Trainable params: 8,402,058\n",
            "Non-trainable params: 3,072\n",
            "_________________________________________________________________\n"
          ]
        }
      ]
    },
    {
      "cell_type": "code",
      "source": [
        "\n",
        "datagen = tf.keras.preprocessing.image.ImageDataGenerator(\n",
        "    rotation_range=15,\n",
        "    zoom_range=0.15,\n",
        "    width_shift_range=0.15,\n",
        "    height_shift_range=0.15,\n",
        "    horizontal_flip=True,\n",
        ")\n",
        "\n",
        "new_images = np.repeat(train_images, 2, axis=0)\n",
        "new_labels = np.repeat(train_labels, 2, axis=0)\n",
        "batch_size =  len(new_images)\n",
        "\n",
        "print(train_images.shape, train_labels.shape)\n",
        "print(new_images.shape, new_labels.shape)\n",
        "\n",
        "# showImage(train_images, train_labels)\n",
        "\n",
        "datagen.fit(new_images)\n",
        "\n",
        "img_iter = datagen.flow(new_images, new_labels, batch_size=batch_size)\n",
        "x, y = img_iter.next()\n",
        "print(x.shape, y.shape)\n",
        "\n",
        "callback = keras.callbacks.EarlyStopping(monitor='val_loss', patience = 12)\n"
      ],
      "metadata": {
        "id": "VVT6iTzkNtP-",
        "colab": {
          "base_uri": "https://localhost:8080/"
        },
        "outputId": "44207144-00c0-4aa0-ff9d-2b43be181d04"
      },
      "execution_count": null,
      "outputs": [
        {
          "output_type": "stream",
          "name": "stdout",
          "text": [
            "(50000, 32, 32, 3) (50000, 1)\n",
            "(100000, 32, 32, 3) (100000, 1)\n"
          ]
        }
      ]
    },
    {
      "cell_type": "code",
      "source": [
        "print(new_images.shape)"
      ],
      "metadata": {
        "colab": {
          "base_uri": "https://localhost:8080/"
        },
        "id": "wu9KSHxzNZcq",
        "outputId": "d5d9c153-9136-42a3-8009-b186c8162f79"
      },
      "execution_count": null,
      "outputs": [
        {
          "output_type": "stream",
          "name": "stdout",
          "text": [
            "(100000, 32, 32, 3)\n"
          ]
        }
      ]
    },
    {
      "cell_type": "code",
      "source": [
        "batch_size = 128\n",
        "\n",
        "# print(train_images.shape, train_labels.shape)\n",
        "\n",
        "model.compile(\n",
        "            optimizer='rmsprop',\n",
        "            loss=tf.keras.losses.SparseCategoricalCrosentropy(from_logits=True),\n",
        "            metrics=['accuracy']\n",
        "            )\n",
        "\n",
        "\n",
        "history = model.fit(\n",
        "                    # train_images, train_labels,\n",
        "                    x,y,\n",
        "                    epochs=40,\n",
        "                    validation_data=(test_images, test_labels),\n",
        "                    batch_size=batch_size,\n",
        "                    callbacks=[callback]\n",
        "                    )"
      ],
      "metadata": {
        "id": "fvovFon_Nu22",
        "colab": {
          "base_uri": "https://localhost:8080/"
        },
        "outputId": "a738c3a2-2ede-4651-abfd-d30be0051c5f"
      },
      "execution_count": null,
      "outputs": [
        {
          "output_type": "stream",
          "name": "stdout",
          "text": [
            "Epoch 1/40\n",
            "782/782 [==============================] - 61s 51ms/step - loss: 1.4684 - accuracy: 0.4723 - val_loss: 2.2216 - val_accuracy: 0.4085\n",
            "Epoch 2/40\n",
            "782/782 [==============================] - 38s 49ms/step - loss: 0.8414 - accuracy: 0.7087 - val_loss: 3.0188 - val_accuracy: 0.3276\n",
            "Epoch 3/40\n",
            "782/782 [==============================] - 40s 51ms/step - loss: 0.6100 - accuracy: 0.7923 - val_loss: 0.7508 - val_accuracy: 0.7618\n",
            "Epoch 4/40\n",
            "782/782 [==============================] - 40s 52ms/step - loss: 0.4699 - accuracy: 0.8391 - val_loss: 0.5740 - val_accuracy: 0.8076\n",
            "Epoch 5/40\n",
            "782/782 [==============================] - 39s 50ms/step - loss: 0.3625 - accuracy: 0.8765 - val_loss: 1.0005 - val_accuracy: 0.7253\n",
            "Epoch 6/40\n",
            "782/782 [==============================] - 39s 50ms/step - loss: 0.2844 - accuracy: 0.9031 - val_loss: 1.0070 - val_accuracy: 0.7278\n",
            "Epoch 7/40\n",
            "782/782 [==============================] - 39s 50ms/step - loss: 0.2199 - accuracy: 0.9253 - val_loss: 0.7032 - val_accuracy: 0.8034\n",
            "Epoch 8/40\n",
            "782/782 [==============================] - 39s 50ms/step - loss: 0.1711 - accuracy: 0.9420 - val_loss: 0.6312 - val_accuracy: 0.8344\n",
            "Epoch 9/40\n",
            "782/782 [==============================] - 39s 50ms/step - loss: 0.1362 - accuracy: 0.9540 - val_loss: 0.7268 - val_accuracy: 0.8224\n",
            "Epoch 10/40\n",
            "782/782 [==============================] - 39s 50ms/step - loss: 0.1112 - accuracy: 0.9618 - val_loss: 0.6613 - val_accuracy: 0.8376\n",
            "Epoch 11/40\n",
            "782/782 [==============================] - 39s 50ms/step - loss: 0.0937 - accuracy: 0.9682 - val_loss: 0.6293 - val_accuracy: 0.8482\n",
            "Epoch 12/40\n",
            "782/782 [==============================] - 39s 50ms/step - loss: 0.0807 - accuracy: 0.9728 - val_loss: 0.7128 - val_accuracy: 0.8426\n",
            "Epoch 13/40\n",
            "782/782 [==============================] - 39s 50ms/step - loss: 0.0710 - accuracy: 0.9760 - val_loss: 0.7261 - val_accuracy: 0.8439\n",
            "Epoch 14/40\n",
            "782/782 [==============================] - 39s 50ms/step - loss: 0.0619 - accuracy: 0.9786 - val_loss: 0.7686 - val_accuracy: 0.8324\n",
            "Epoch 15/40\n",
            "782/782 [==============================] - 39s 49ms/step - loss: 0.0549 - accuracy: 0.9811 - val_loss: 0.8433 - val_accuracy: 0.8300\n",
            "Epoch 16/40\n",
            "782/782 [==============================] - 39s 49ms/step - loss: 0.0518 - accuracy: 0.9822 - val_loss: 0.7044 - val_accuracy: 0.8528\n"
          ]
        }
      ]
    },
    {
      "cell_type": "code",
      "source": [
        "batch_size = 64\n",
        "\n",
        "model.compile(\n",
        "            # optimizer='rmsprop',\n",
        "            tf.keras.optimizers.Adam(learning_rate=0.0003),\n",
        "            loss=tf.keras.losses.SparseCategoricalCrossentropy(from_logits=True),\n",
        "            metrics=['accuracy']\n",
        "            )\n",
        "\n",
        "\n",
        "history2 = model.fit(\n",
        "                    train_images, train_labels,\n",
        "                    epochs=40,\n",
        "                    validation_data=(test_images, test_labels),\n",
        "                    batch_size=batch_size,\n",
        "                    callbacks=[callback]\n",
        "                    )"
      ],
      "metadata": {
        "colab": {
          "base_uri": "https://localhost:8080/"
        },
        "id": "jhjj89CcJpBr",
        "outputId": "d6b40048-1202-4cff-ed9c-7faf926469cc"
      },
      "execution_count": null,
      "outputs": [
        {
          "output_type": "stream",
          "name": "stdout",
          "text": [
            "Epoch 1/40\n",
            "782/782 [==============================] - 36s 33ms/step - loss: 0.2206 - accuracy: 0.9297 - val_loss: 0.3445 - val_accuracy: 0.8874\n",
            "Epoch 2/40\n",
            "782/782 [==============================] - 25s 32ms/step - loss: 0.1033 - accuracy: 0.9660 - val_loss: 0.3913 - val_accuracy: 0.8926\n",
            "Epoch 3/40\n",
            "782/782 [==============================] - 27s 34ms/step - loss: 0.0523 - accuracy: 0.9831 - val_loss: 0.4636 - val_accuracy: 0.8855\n",
            "Epoch 4/40\n",
            "782/782 [==============================] - 25s 33ms/step - loss: 0.0364 - accuracy: 0.9882 - val_loss: 0.5630 - val_accuracy: 0.8806\n",
            "Epoch 5/40\n",
            "782/782 [==============================] - 27s 34ms/step - loss: 0.0326 - accuracy: 0.9890 - val_loss: 0.5019 - val_accuracy: 0.8870\n",
            "Epoch 6/40\n",
            "782/782 [==============================] - 27s 34ms/step - loss: 0.0261 - accuracy: 0.9919 - val_loss: 0.5689 - val_accuracy: 0.8820\n",
            "Epoch 7/40\n",
            "782/782 [==============================] - 25s 33ms/step - loss: 0.0257 - accuracy: 0.9915 - val_loss: 0.6099 - val_accuracy: 0.8781\n",
            "Epoch 8/40\n",
            "782/782 [==============================] - 27s 34ms/step - loss: 0.0223 - accuracy: 0.9921 - val_loss: 0.5777 - val_accuracy: 0.8822\n",
            "Epoch 9/40\n",
            "782/782 [==============================] - 27s 34ms/step - loss: 0.0225 - accuracy: 0.9924 - val_loss: 0.5989 - val_accuracy: 0.8745\n",
            "Epoch 10/40\n",
            "782/782 [==============================] - 26s 33ms/step - loss: 0.0228 - accuracy: 0.9925 - val_loss: 0.7229 - val_accuracy: 0.8633\n",
            "Epoch 11/40\n",
            "782/782 [==============================] - 25s 33ms/step - loss: 0.0178 - accuracy: 0.9943 - val_loss: 0.6235 - val_accuracy: 0.8828\n",
            "Epoch 12/40\n",
            "782/782 [==============================] - 26s 33ms/step - loss: 0.0173 - accuracy: 0.9943 - val_loss: 0.6143 - val_accuracy: 0.8824\n",
            "Epoch 13/40\n",
            "782/782 [==============================] - 27s 34ms/step - loss: 0.0190 - accuracy: 0.9942 - val_loss: 0.5940 - val_accuracy: 0.8822\n"
          ]
        }
      ]
    },
    {
      "cell_type": "code",
      "source": [
        "\n",
        "# 以下因為 Colab 的系統RAM不足，導致程式中斷沒有跑到。\n",
        "\n",
        "batch_size = 32\n",
        "\n",
        "model.compile(\n",
        "            # optimizer='rmsprop',\n",
        "            tf.keras.optimizers.Adam(learning_rate=0.0001),\n",
        "            loss=tf.keras.losses.SparseCategoricalCrossentropy(from_logits=True),\n",
        "            metrics=['accuracy']\n",
        "            )\n",
        "\n",
        "\n",
        "history3 = model.fit(\n",
        "                    train_images, train_labels,\n",
        "                    # x,y,\n",
        "                    epochs=40,\n",
        "                    validation_data=(test_images, test_labels),\n",
        "                    batch_size=batch_size,\n",
        "                    callbacks=[callback]\n",
        "                    )"
      ],
      "metadata": {
        "id": "1XKNAx-KQQBV"
      },
      "execution_count": null,
      "outputs": []
    },
    {
      "cell_type": "code",
      "source": [
        "\n",
        "hist = [history,history2,history3]\n",
        "acc_list = [acc for i in hist for acc in i.history['accuracy']]\n",
        "val_acc_list = [acc for i in hist for acc in i.history['val_accuracy']]\n",
        "\n",
        "print(acc_list)\n",
        "\n",
        "plt.plot(acc_list, label='accuracy')\n",
        "plt.plot(val_acc_list, label = 'val_accuracy')\n",
        "plt.title('Cifar10')\n",
        "plt.xlabel('Epoch')\n",
        "plt.ylabel('Accuracy')\n",
        "plt.ylim([0.5, 1])\n",
        "plt.legend(loc='lower right')\n",
        "\n",
        "test_loss, test_acc = model.evaluate(test_images,  test_labels, verbose=2)\n",
        "\n",
        "# print(test_loss)\n",
        "print(test_acc)"
      ],
      "metadata": {
        "id": "TMQzN7n9TLK1",
        "colab": {
          "base_uri": "https://localhost:8080/",
          "height": 490
        },
        "outputId": "3b82f9d3-c2c0-4de9-f825-810703956036"
      },
      "execution_count": null,
      "outputs": [
        {
          "output_type": "stream",
          "name": "stdout",
          "text": [
            "313/313 - 2s - loss: 0.9189 - accuracy: 0.8656 - 2s/epoch - 6ms/step\n",
            "0.8655999898910522\n"
          ]
        },
        {
          "output_type": "display_data",
          "data": {
            "text/plain": [
              "<Figure size 640x480 with 1 Axes>"
            ],
            "image/png": "[encoded data removed]"
          },
          "metadata": {}
        }
      ]
    },
    {
      "cell_type": "code",
      "source": [
        "model.save('drive/MyDrive/00AI/final5_model')\n",
        "\n",
        "# best : epochs = 2/40 in 2th stage, batch = 64\n",
        "# loss: 0.1033 - accuracy: 0.9660 - val_loss: 0.3913 - val_accuracy: 0.8926\n",
        "\n",
        "# original : epochs = 10, batch = 64\n",
        "#  loss: 0.5924 - accuracy: 0.7902\n",
        "#- val_loss: 0.8711 - val_accuracy: 0.7118\n"
      ],
      "metadata": {
        "id": "Zq8YYKdpTU9R",
        "colab": {
          "base_uri": "https://localhost:8080/"
        },
        "outputId": "d69a3ed8-cde6-443b-8bee-c97617641f32"
      },
      "execution_count": null,
      "outputs": [
        {
          "output_type": "stream",
          "name": "stderr",
          "text": [
            "WARNING:absl:Found untraced functions such as _jit_compiled_convolution_op, _jit_compiled_convolution_op, _jit_compiled_convolution_op, _jit_compiled_convolution_op, _jit_compiled_convolution_op while saving (showing 5 of 10). These functions will not be directly callable after loading.\n",
            "WARNING:absl:<keras.layers.normalization.batch_normalization_v1.BatchNormalization object at 0x7969cabeb6d0> has the same name 'BatchNormalization' as a built-in Keras object. Consider renaming <class 'keras.layers.normalization.batch_normalization_v1.BatchNormalization'> to avoid naming conflicts when loading with `tf.keras.models.load_model`. If renaming is not possible, pass the object in the `custom_objects` parameter of the load function.\n"
          ]
        }
      ]
    },
    {
      "cell_type": "code",
      "source": [],
      "metadata": {
        "id": "NOVd8BKQbroT"
      },
      "execution_count": null,
      "outputs": []
    }
  ]
}