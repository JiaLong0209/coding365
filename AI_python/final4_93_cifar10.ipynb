{
  "nbformat": 4,
  "nbformat_minor": 0,
  "metadata": {
    "colab": {
      "provenance": [],
      "gpuType": "T4",
      "cell_execution_strategy": "setup",
      "include_colab_link": true
    },
    "kernelspec": {
      "name": "python3",
      "display_name": "Python 3"
    },
    "language_info": {
      "name": "python"
    },
    "accelerator": "GPU"
  },
  "cells": [
    {
      "cell_type": "markdown",
      "metadata": {
        "id": "view-in-github",
        "colab_type": "text"
      },
      "source": [
        "<a href=\"https://colab.research.google.com/github/JiaLong0209/coding365/blob/master/AI_python/final4_93_cifar10.ipynb\" target=\"_parent\"><img src=\"https://colab.research.google.com/assets/colab-badge.svg\" alt=\"Open In Colab\"/></a>"
      ]
    },
    {
      "cell_type": "code",
      "execution_count": null,
      "metadata": {
        "id": "LeDO_oAYNf1D"
      },
      "outputs": [],
      "source": [
        "import tensorflow as tf\n",
        "from keras import datasets, layers, models\n",
        "from tensorflow import keras\n",
        "import matplotlib.pyplot as plt\n",
        "import numpy as np"
      ]
    },
    {
      "cell_type": "code",
      "source": [
        "(train_images, train_labels), (test_images, test_labels) = datasets.cifar10.load_data()\n",
        "\n",
        "train_images, test_images = train_images / 255.0, test_images / 255.0\n"
      ],
      "metadata": {
        "id": "bspicLQ3NlWV",
        "colab": {
          "base_uri": "https://localhost:8080/"
        },
        "outputId": "cac2e5ab-14cd-42ef-b026-0e607196d502"
      },
      "execution_count": null,
      "outputs": [
        {
          "output_type": "stream",
          "name": "stdout",
          "text": [
            "Downloading data from https://www.cs.toronto.edu/~kriz/cifar-10-python.tar.gz\n",
            "170498071/170498071 [==============================] - 6s 0us/step\n"
          ]
        }
      ]
    },
    {
      "cell_type": "code",
      "source": [
        "def showImage(x,y, title=''):\n",
        "    plt.figure(figsize=(10,10))\n",
        "    for i in range(25 if len(x) >= 25 else len(x)):\n",
        "        plt.subplot(5,5,i+1)\n",
        "        plt.xticks([])\n",
        "        plt.yticks([])\n",
        "        plt.grid(False)\n",
        "        plt.imshow(x[i])\n",
        "        plt.xlabel(class_names[y[i][0]])\n",
        "        plt.title(title)\n",
        "    plt.show()\n",
        "\n",
        "class_names = ['airplane', 'automobile', 'bird', 'cat', 'deer',\n",
        "               'dog', 'frog', 'horse', 'ship', 'truck']\n",
        "\n",
        "# showImage(train_images, train_labels)"
      ],
      "metadata": {
        "id": "ZQhLDRCENrTm"
      },
      "execution_count": null,
      "outputs": []
    },
    {
      "cell_type": "code",
      "source": [
        "\n",
        "datagen = tf.keras.preprocessing.image.ImageDataGenerator(\n",
        "    rotation_range=25,\n",
        "    zoom_range=0.25,\n",
        "    width_shift_range=0.15,\n",
        "    height_shift_range=0.15,\n",
        "    horizontal_flip=True,\n",
        ")\n",
        "\n",
        "# train_images, train_labels = train_images[:1] , train_labels[:1]\n",
        "\n",
        "# showImage(train_images, train_labels)\n",
        "\n",
        "new_images = np.repeat(train_images, 2, axis=0)\n",
        "new_labels = np.repeat(train_labels, 2, axis=0)\n",
        "batch_size =  len(new_images)\n",
        "\n",
        "print(train_images.shape)\n",
        "print(new_images.shape)\n",
        "\n",
        "\n",
        "datagen.fit(new_images)\n",
        "\n",
        "# img_iter = datagen.flow(new_images, new_labels, batch_size=batch_size)\n",
        "# x, y = img_iter.next()\n",
        "# print(x.shape, y.shape)\n",
        "\n",
        "callback = keras.callbacks.EarlyStopping(monitor='val_loss', patience = 8)\n"
      ],
      "metadata": {
        "id": "VVT6iTzkNtP-",
        "colab": {
          "base_uri": "https://localhost:8080/"
        },
        "outputId": "4270df34-0d29-4b87-a22f-e0d7e3b3feeb"
      },
      "execution_count": null,
      "outputs": [
        {
          "output_type": "stream",
          "name": "stdout",
          "text": [
            "(50000, 32, 32, 3)\n",
            "(100000, 32, 32, 3)\n"
          ]
        }
      ]
    },
    {
      "cell_type": "code",
      "source": [
        "from keras.layers.normalization.batch_normalization_v1 import BatchNormalization\n",
        "model = models.Sequential()\n",
        "kernel_size = [64,128,256,512]\n",
        "\n",
        "model.add(layers.Conv2D(64, (3,3), activation='relu', padding='same', input_shape=(32, 32, 3)))\n",
        "model.add(BatchNormalization())\n",
        "\n",
        "for i,kernel in enumerate(kernel_size):\n",
        "    model.add(layers.Conv2D(kernel, (3, 3), activation='relu',padding='same'))\n",
        "    model.add(layers.Conv2D(kernel, (3, 3), activation='relu',padding='same'))\n",
        "    if(i > len(kernel_size)/2): model.add(layers.Conv2D(kernel, (3, 3), activation='relu', padding='same'))\n",
        "    model.add(layers.BatchNormalization())\n",
        "    model.add(layers.MaxPooling2D((2, 2)))\n",
        "\n",
        "model.add(layers.Flatten())\n",
        "model.add(layers.Dense(512, activation='relu'))\n",
        "model.add(layers.Dropout(0.1))\n",
        "model.add(layers.Dense(512, activation='relu'))\n",
        "model.add(layers.Dropout(0.1))\n",
        "model.add(layers.BatchNormalization())\n",
        "\n",
        "model.add(layers.Dense(10))\n",
        "\n",
        "model.summary()\n"
      ],
      "metadata": {
        "id": "_B_1rLfMYTNy",
        "colab": {
          "base_uri": "https://localhost:8080/"
        },
        "outputId": "2e4c7d1c-63eb-41f9-abdf-994301f43f9c"
      },
      "execution_count": null,
      "outputs": [
        {
          "output_type": "stream",
          "name": "stdout",
          "text": [
            "Model: \"sequential\"\n",
            "_________________________________________________________________\n",
            " Layer (type)                Output Shape              Param #   \n",
            "=================================================================\n",
            " conv2d (Conv2D)             (None, 32, 32, 64)        1792      \n",
            "                                                                 \n",
            " batch_normalization (BatchN  (None, 32, 32, 64)       256       \n",
            " ormalization)                                                   \n",
            "                                                                 \n",
            " conv2d_1 (Conv2D)           (None, 32, 32, 64)        36928     \n",
            "                                                                 \n",
            " conv2d_2 (Conv2D)           (None, 32, 32, 64)        36928     \n",
            "                                                                 \n",
            " batch_normalization_1 (Batc  (None, 32, 32, 64)       256       \n",
            " hNormalization)                                                 \n",
            "                                                                 \n",
            " max_pooling2d (MaxPooling2D  (None, 16, 16, 64)       0         \n",
            " )                                                               \n",
            "                                                                 \n",
            " conv2d_3 (Conv2D)           (None, 16, 16, 128)       73856     \n",
            "                                                                 \n",
            " conv2d_4 (Conv2D)           (None, 16, 16, 128)       147584    \n",
            "                                                                 \n",
            " batch_normalization_2 (Batc  (None, 16, 16, 128)      512       \n",
            " hNormalization)                                                 \n",
            "                                                                 \n",
            " max_pooling2d_1 (MaxPooling  (None, 8, 8, 128)        0         \n",
            " 2D)                                                             \n",
            "                                                                 \n",
            " conv2d_5 (Conv2D)           (None, 8, 8, 256)         295168    \n",
            "                                                                 \n",
            " conv2d_6 (Conv2D)           (None, 8, 8, 256)         590080    \n",
            "                                                                 \n",
            " batch_normalization_3 (Batc  (None, 8, 8, 256)        1024      \n",
            " hNormalization)                                                 \n",
            "                                                                 \n",
            " max_pooling2d_2 (MaxPooling  (None, 4, 4, 256)        0         \n",
            " 2D)                                                             \n",
            "                                                                 \n",
            " conv2d_7 (Conv2D)           (None, 4, 4, 512)         1180160   \n",
            "                                                                 \n",
            " conv2d_8 (Conv2D)           (None, 4, 4, 512)         2359808   \n",
            "                                                                 \n",
            " conv2d_9 (Conv2D)           (None, 4, 4, 512)         2359808   \n",
            "                                                                 \n",
            " batch_normalization_4 (Batc  (None, 4, 4, 512)        2048      \n",
            " hNormalization)                                                 \n",
            "                                                                 \n",
            " max_pooling2d_3 (MaxPooling  (None, 2, 2, 512)        0         \n",
            " 2D)                                                             \n",
            "                                                                 \n",
            " flatten (Flatten)           (None, 2048)              0         \n",
            "                                                                 \n",
            " dense (Dense)               (None, 512)               1049088   \n",
            "                                                                 \n",
            " dropout (Dropout)           (None, 512)               0         \n",
            "                                                                 \n",
            " dense_1 (Dense)             (None, 512)               262656    \n",
            "                                                                 \n",
            " dropout_1 (Dropout)         (None, 512)               0         \n",
            "                                                                 \n",
            " batch_normalization_5 (Batc  (None, 512)              2048      \n",
            " hNormalization)                                                 \n",
            "                                                                 \n",
            " dense_2 (Dense)             (None, 10)                5130      \n",
            "                                                                 \n",
            "=================================================================\n",
            "Total params: 8,405,130\n",
            "Trainable params: 8,402,058\n",
            "Non-trainable params: 3,072\n",
            "_________________________________________________________________\n"
          ]
        }
      ]
    },
    {
      "cell_type": "code",
      "source": [
        "batch_size = 128\n",
        "\n",
        "# print(train_images.shape, train_labels.shape)\n",
        "\n",
        "model.compile(\n",
        "            optimizer='rmsprop',\n",
        "            loss=tf.keras.losses.SparseCategoricalCrossentropy(from_logits=True),\n",
        "            metrics=['accuracy']\n",
        "            )\n",
        "\n",
        "\n",
        "history = model.fit(\n",
        "                    # train_images, train_labels,\n",
        "                    datagen.flow(new_images, new_labels, batch_size=batch_size),\n",
        "                    # x,y,\n",
        "                    epochs=40,\n",
        "                    validation_data=(test_images, test_labels),\n",
        "                    batch_size=batch_size,\n",
        "                    callbacks=[callback]\n",
        "                    )"
      ],
      "metadata": {
        "id": "fvovFon_Nu22",
        "colab": {
          "base_uri": "https://localhost:8080/"
        },
        "outputId": "a9185a1a-e522-4ea6-98b8-82b16209e8ac"
      },
      "execution_count": null,
      "outputs": [
        {
          "output_type": "stream",
          "name": "stdout",
          "text": [
            "Epoch 1/40\n",
            "782/782 [==============================] - 97s 103ms/step - loss: 1.5816 - accuracy: 0.1044 - val_loss: 1.3419 - val_accuracy: 0.1562\n",
            "Epoch 2/40\n",
            "782/782 [==============================] - 70s 89ms/step - loss: 1.0183 - accuracy: 0.1042 - val_loss: 0.8418 - val_accuracy: 0.0962\n",
            "Epoch 3/40\n",
            "782/782 [==============================] - 71s 91ms/step - loss: 0.7870 - accuracy: 0.1023 - val_loss: 0.7709 - val_accuracy: 0.0948\n",
            "Epoch 4/40\n",
            "782/782 [==============================] - 71s 91ms/step - loss: 0.6601 - accuracy: 0.1015 - val_loss: 0.6563 - val_accuracy: 0.1116\n",
            "Epoch 5/40\n",
            "782/782 [==============================] - 69s 89ms/step - loss: 0.5737 - accuracy: 0.1023 - val_loss: 0.6524 - val_accuracy: 0.0678\n",
            "Epoch 6/40\n",
            "782/782 [==============================] - 71s 90ms/step - loss: 0.5189 - accuracy: 0.1017 - val_loss: 0.5171 - val_accuracy: 0.0845\n",
            "Epoch 7/40\n",
            "782/782 [==============================] - 71s 91ms/step - loss: 0.4629 - accuracy: 0.1013 - val_loss: 0.5539 - val_accuracy: 0.0874\n",
            "Epoch 8/40\n",
            "782/782 [==============================] - 70s 89ms/step - loss: 0.4287 - accuracy: 0.1013 - val_loss: 0.6193 - val_accuracy: 0.0802\n",
            "Epoch 9/40\n",
            "782/782 [==============================] - 70s 90ms/step - loss: 0.3998 - accuracy: 0.1019 - val_loss: 0.4674 - val_accuracy: 0.0747\n",
            "Epoch 10/40\n",
            "782/782 [==============================] - 70s 90ms/step - loss: 0.3698 - accuracy: 0.1012 - val_loss: 0.4323 - val_accuracy: 0.0870\n",
            "Epoch 11/40\n",
            "782/782 [==============================] - 69s 89ms/step - loss: 0.3477 - accuracy: 0.1012 - val_loss: 0.4537 - val_accuracy: 0.1054\n",
            "Epoch 12/40\n",
            "782/782 [==============================] - 70s 90ms/step - loss: 0.3260 - accuracy: 0.1015 - val_loss: 0.3708 - val_accuracy: 0.0954\n",
            "Epoch 13/40\n",
            "782/782 [==============================] - 69s 89ms/step - loss: 0.3044 - accuracy: 0.1011 - val_loss: 0.4421 - val_accuracy: 0.1018\n",
            "Epoch 14/40\n",
            "782/782 [==============================] - 69s 88ms/step - loss: 0.2938 - accuracy: 0.1015 - val_loss: 0.4054 - val_accuracy: 0.1157\n",
            "Epoch 15/40\n",
            "782/782 [==============================] - 70s 90ms/step - loss: 0.2755 - accuracy: 0.1011 - val_loss: 0.4440 - val_accuracy: 0.1153\n",
            "Epoch 16/40\n",
            "782/782 [==============================] - 69s 88ms/step - loss: 0.2667 - accuracy: 0.1012 - val_loss: 0.3730 - val_accuracy: 0.0980\n",
            "Epoch 17/40\n",
            "782/782 [==============================] - 70s 89ms/step - loss: 0.2517 - accuracy: 0.1006 - val_loss: 0.3881 - val_accuracy: 0.0985\n",
            "Epoch 18/40\n",
            "782/782 [==============================] - 69s 88ms/step - loss: 0.2437 - accuracy: 0.1012 - val_loss: 0.3518 - val_accuracy: 0.1123\n",
            "Epoch 19/40\n",
            "782/782 [==============================] - 69s 88ms/step - loss: 0.2302 - accuracy: 0.1010 - val_loss: 0.3815 - val_accuracy: 0.1143\n",
            "Epoch 20/40\n",
            "782/782 [==============================] - 69s 89ms/step - loss: 0.2220 - accuracy: 0.1008 - val_loss: 0.4254 - val_accuracy: 0.1025\n",
            "Epoch 21/40\n",
            "782/782 [==============================] - 69s 88ms/step - loss: 0.2138 - accuracy: 0.1006 - val_loss: 0.4044 - val_accuracy: 0.1148\n",
            "Epoch 22/40\n",
            "782/782 [==============================] - 70s 89ms/step - loss: 0.2038 - accuracy: 0.1007 - val_loss: 0.3430 - val_accuracy: 0.0965\n",
            "Epoch 23/40\n",
            "782/782 [==============================] - 69s 88ms/step - loss: 0.1969 - accuracy: 0.1007 - val_loss: 0.3200 - val_accuracy: 0.0967\n",
            "Epoch 24/40\n",
            "782/782 [==============================] - 69s 88ms/step - loss: 0.1886 - accuracy: 0.1005 - val_loss: 0.2893 - val_accuracy: 0.1012\n",
            "Epoch 25/40\n",
            "782/782 [==============================] - 69s 88ms/step - loss: 0.1843 - accuracy: 0.1004 - val_loss: 0.3252 - val_accuracy: 0.1028\n",
            "Epoch 26/40\n",
            "782/782 [==============================] - 69s 88ms/step - loss: 0.1780 - accuracy: 0.1004 - val_loss: 0.3659 - val_accuracy: 0.0933\n",
            "Epoch 27/40\n",
            "782/782 [==============================] - 69s 89ms/step - loss: 0.1722 - accuracy: 0.1002 - val_loss: 0.3359 - val_accuracy: 0.0866\n",
            "Epoch 28/40\n",
            "782/782 [==============================] - 69s 88ms/step - loss: 0.1655 - accuracy: 0.1003 - val_loss: 0.3461 - val_accuracy: 0.1049\n",
            "Epoch 29/40\n",
            "782/782 [==============================] - 69s 89ms/step - loss: 0.1607 - accuracy: 0.1003 - val_loss: 0.3219 - val_accuracy: 0.1029\n",
            "Epoch 30/40\n",
            "782/782 [==============================] - 69s 89ms/step - loss: 0.1545 - accuracy: 0.1005 - val_loss: 0.3623 - val_accuracy: 0.0971\n",
            "Epoch 31/40\n",
            "782/782 [==============================] - 69s 89ms/step - loss: 0.1526 - accuracy: 0.1005 - val_loss: 0.3711 - val_accuracy: 0.1043\n",
            "Epoch 32/40\n",
            "782/782 [==============================] - 71s 90ms/step - loss: 0.1468 - accuracy: 0.1004 - val_loss: 0.3231 - val_accuracy: 0.0981\n"
          ]
        }
      ]
    },
    {
      "cell_type": "code",
      "source": [
        "batch_size = 64\n",
        "\n",
        "model.compile(\n",
        "            # optimizer='rmsprop',\n",
        "            tf.keras.optimizers.Adam(learning_rate=0.0003),\n",
        "            loss=tf.keras.losses.SparseCategoricalCrossentropy(from_logits=True),\n",
        "            metrics=['accuracy']\n",
        "            )\n",
        "\n",
        "\n",
        "history2 = model.fit(\n",
        "                    train_images, train_labels,\n",
        "                    epochs=40,\n",
        "                    validation_data=(test_images, test_labels),\n",
        "                    batch_size=batch_size,\n",
        "                    callbacks=[callback]\n",
        "                    )"
      ],
      "metadata": {
        "colab": {
          "base_uri": "https://localhost:8080/"
        },
        "id": "jhjj89CcJpBr",
        "outputId": "57641077-06fb-4b6a-9fce-d39934437275"
      },
      "execution_count": null,
      "outputs": [
        {
          "output_type": "stream",
          "name": "stdout",
          "text": [
            "Epoch 1/40\n",
            "782/782 [==============================] - 36s 34ms/step - loss: 0.0490 - accuracy: 0.9833 - val_loss: 0.3167 - val_accuracy: 0.9198\n",
            "Epoch 2/40\n",
            "782/782 [==============================] - 25s 33ms/step - loss: 0.0198 - accuracy: 0.9935 - val_loss: 0.3461 - val_accuracy: 0.9227\n",
            "Epoch 3/40\n",
            "782/782 [==============================] - 27s 34ms/step - loss: 0.0175 - accuracy: 0.9942 - val_loss: 0.3514 - val_accuracy: 0.9238\n",
            "Epoch 4/40\n",
            "782/782 [==============================] - 27s 34ms/step - loss: 0.0134 - accuracy: 0.9956 - val_loss: 0.4036 - val_accuracy: 0.9190\n",
            "Epoch 5/40\n",
            "782/782 [==============================] - 25s 32ms/step - loss: 0.0120 - accuracy: 0.9960 - val_loss: 0.3834 - val_accuracy: 0.9222\n",
            "Epoch 6/40\n",
            "782/782 [==============================] - 25s 33ms/step - loss: 0.0125 - accuracy: 0.9956 - val_loss: 0.4043 - val_accuracy: 0.9225\n",
            "Epoch 7/40\n",
            "782/782 [==============================] - 26s 33ms/step - loss: 0.0122 - accuracy: 0.9959 - val_loss: 0.4327 - val_accuracy: 0.9165\n",
            "Epoch 8/40\n",
            "782/782 [==============================] - 25s 32ms/step - loss: 0.0113 - accuracy: 0.9962 - val_loss: 0.3889 - val_accuracy: 0.9220\n",
            "Epoch 9/40\n",
            "782/782 [==============================] - 27s 34ms/step - loss: 0.0101 - accuracy: 0.9965 - val_loss: 0.4526 - val_accuracy: 0.9160\n"
          ]
        }
      ]
    },
    {
      "cell_type": "code",
      "source": [
        "\n",
        "# 以下因為 Colab 的系統RAM不足，導致程式中斷沒有跑到。\n",
        "\n",
        "batch_size = 32\n",
        "\n",
        "model.compile(\n",
        "            # optimizer='rmsprop',\n",
        "            tf.keras.optimizers.Adam(learning_rate=0.0001),\n",
        "            loss=tf.keras.losses.SparseCategoricalCrossentropy(from_logits=True),\n",
        "            metrics=['accuracy']\n",
        "            )\n",
        "\n",
        "\n",
        "history3 = model.fit(\n",
        "                    train_images, train_labels,\n",
        "                    # x,y,\n",
        "                    epochs=40,\n",
        "                    validation_data=(test_images, test_labels),\n",
        "                    batch_size=batch_size,\n",
        "                    callbacks=[callback]\n",
        "                    )"
      ],
      "metadata": {
        "id": "1XKNAx-KQQBV",
        "colab": {
          "base_uri": "https://localhost:8080/"
        },
        "outputId": "5396d057-e23a-4c3c-ae4f-dfb2a7f053af"
      },
      "execution_count": null,
      "outputs": [
        {
          "output_type": "stream",
          "name": "stdout",
          "text": [
            "Epoch 1/40\n",
            "1563/1563 [==============================] - 44s 24ms/step - loss: 0.0096 - accuracy: 0.9969 - val_loss: 0.4113 - val_accuracy: 0.9271\n",
            "Epoch 2/40\n",
            "1563/1563 [==============================] - 36s 23ms/step - loss: 0.0073 - accuracy: 0.9979 - val_loss: 0.4034 - val_accuracy: 0.9289\n",
            "Epoch 3/40\n",
            "1563/1563 [==============================] - 36s 23ms/step - loss: 0.0058 - accuracy: 0.9982 - val_loss: 0.4328 - val_accuracy: 0.9261\n",
            "Epoch 4/40\n",
            "1563/1563 [==============================] - 36s 23ms/step - loss: 0.0042 - accuracy: 0.9987 - val_loss: 0.4525 - val_accuracy: 0.9243\n",
            "Epoch 5/40\n",
            "1563/1563 [==============================] - 36s 23ms/step - loss: 0.0054 - accuracy: 0.9984 - val_loss: 0.4685 - val_accuracy: 0.9237\n",
            "Epoch 6/40\n",
            "1563/1563 [==============================] - 36s 23ms/step - loss: 0.0040 - accuracy: 0.9987 - val_loss: 0.4496 - val_accuracy: 0.9278\n",
            "Epoch 7/40\n",
            "1563/1563 [==============================] - 36s 23ms/step - loss: 0.0048 - accuracy: 0.9987 - val_loss: 0.4444 - val_accuracy: 0.9274\n",
            "Epoch 8/40\n",
            "1563/1563 [==============================] - 36s 23ms/step - loss: 0.0046 - accuracy: 0.9988 - val_loss: 0.4255 - val_accuracy: 0.9310\n",
            "Epoch 9/40\n",
            "1563/1563 [==============================] - 36s 23ms/step - loss: 0.0036 - accuracy: 0.9990 - val_loss: 0.4306 - val_accuracy: 0.9289\n",
            "Epoch 10/40\n",
            "1563/1563 [==============================] - 36s 23ms/step - loss: 0.0037 - accuracy: 0.9989 - val_loss: 0.4404 - val_accuracy: 0.9296\n"
          ]
        }
      ]
    },
    {
      "cell_type": "code",
      "source": [
        "\n",
        "hist = [history,history2,history3]\n",
        "acc_list = [acc for i in hist for acc in i.history['accuracy']]\n",
        "val_acc_list = [acc for i in hist for acc in i.history['val_accuracy']]\n",
        "\n",
        "print(acc_list)\n",
        "\n",
        "plt.plot(acc_list, label='accuracy')\n",
        "plt.plot(val_acc_list, label = 'val_accuracy')\n",
        "plt.title('Cifar10')\n",
        "plt.xlabel('Epoch')\n",
        "plt.ylabel('Accuracy')\n",
        "plt.ylim([0.5, 1])\n",
        "plt.legend(loc='lower right')\n",
        "\n",
        "test_loss, test_acc = model.evaluate(test_images,  test_labels, verbose=2)\n",
        "\n",
        "# print(test_loss)\n",
        "print(test_acc)"
      ],
      "metadata": {
        "id": "TMQzN7n9TLK1",
        "colab": {
          "base_uri": "https://localhost:8080/",
          "height": 547
        },
        "outputId": "b6b47462-69db-43d0-97f5-4109797f4477"
      },
      "execution_count": null,
      "outputs": [
        {
          "output_type": "stream",
          "name": "stdout",
          "text": [
            "[0.10444000363349915, 0.10424000024795532, 0.10231000185012817, 0.10154999792575836, 0.10232999920845032, 0.10170000046491623, 0.10126999765634537, 0.10125000029802322, 0.1019200012087822, 0.10118000209331512, 0.10121999680995941, 0.10153000056743622, 0.10106000304222107, 0.10147000104188919, 0.1011200025677681, 0.10121999680995941, 0.10063999891281128, 0.1011900007724762, 0.10102000087499619, 0.10075999796390533, 0.10058999806642532, 0.10066000372171402, 0.10068999975919724, 0.1005299985408783, 0.10042999684810638, 0.10035999864339828, 0.10016000270843506, 0.10034999996423721, 0.10027000308036804, 0.1004600003361702, 0.10053999722003937, 0.10040999948978424, 0.9833199977874756, 0.9934800267219543, 0.994159996509552, 0.9956200122833252, 0.9960399866104126, 0.995639979839325, 0.9959200024604797, 0.9962199926376343, 0.9965400099754333, 0.996940016746521, 0.9979199767112732, 0.9981799721717834, 0.9987000226974487, 0.9983599781990051, 0.9986600279808044, 0.9986799955368042, 0.9988200068473816, 0.999019980430603, 0.9988999962806702]\n",
            "313/313 - 2s - loss: 0.4404 - accuracy: 0.9296 - 2s/epoch - 7ms/step\n",
            "0.9296000003814697\n"
          ]
        },
        {
          "output_type": "display_data",
          "data": {
            "text/plain": [
              "<Figure size 640x480 with 1 Axes>"
            ],
            "image/png": "[encoded data removed]"
          },
          "metadata": {}
        }
      ]
    },
    {
      "cell_type": "code",
      "source": [
        "model.save('drive/MyDrive/00AI/final2_cifar10_model')\n",
        "\n",
        "# best : epochs = 8 in 3th stage, batch = 64\n",
        "# loss: 0.0046 - accuracy: 0.9988 - val_loss: 0.4255 - val_accuracy: 0.9310\n",
        "\n",
        "# original : epochs = 10, batch = 64\n",
        "#  loss: 0.5924 - accuracy: 0.7902\n",
        "#- val_loss: 0.8711 - val_accuracy: 0.7118\n"
      ],
      "metadata": {
        "id": "Zq8YYKdpTU9R",
        "colab": {
          "base_uri": "https://localhost:8080/"
        },
        "outputId": "d69a3ed8-cde6-443b-8bee-c97617641f32"
      },
      "execution_count": null,
      "outputs": [
        {
          "output_type": "stream",
          "name": "stderr",
          "text": [
            "WARNING:absl:Found untraced functions such as _jit_compiled_convolution_op, _jit_compiled_convolution_op, _jit_compiled_convolution_op, _jit_compiled_convolution_op, _jit_compiled_convolution_op while saving (showing 5 of 10). These functions will not be directly callable after loading.\n",
            "WARNING:absl:<keras.layers.normalization.batch_normalization_v1.BatchNormalization object at 0x7969cabeb6d0> has the same name 'BatchNormalization' as a built-in Keras object. Consider renaming <class 'keras.layers.normalization.batch_normalization_v1.BatchNormalization'> to avoid naming conflicts when loading with `tf.keras.models.load_model`. If renaming is not possible, pass the object in the `custom_objects` parameter of the load function.\n"
          ]
        }
      ]
    },
    {
      "cell_type": "code",
      "source": [],
      "metadata": {
        "id": "NOVd8BKQbroT"
      },
      "execution_count": null,
      "outputs": []
    }
  ]
}